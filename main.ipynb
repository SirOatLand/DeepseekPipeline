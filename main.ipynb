{
 "cells": [
  {
   "cell_type": "code",
   "execution_count": 68,
   "metadata": {},
   "outputs": [],
   "source": [
    "import import_ipynb\n",
    "from os import walk, stat\n",
    "import pandas as pd\n",
    "from rdflib import Graph\n",
    "from codes.prep_onto import prep_onto\n",
    "from codes.prompt_API import create_news, create_newsdict, generate_onto\n",
    "from UnifiedOntologyPipeline.pipeline.appendOnto import append_file, process_lines\n",
    "from UnifiedOntologyPipeline.pipeline.connectIndividuals import getNamespace, connectIndividuals, clear_serialize"
   ]
  },
  {
   "cell_type": "markdown",
   "metadata": {},
   "source": [
    "### **Global Variables**"
   ]
  },
  {
   "cell_type": "code",
   "execution_count": 44,
   "metadata": {},
   "outputs": [],
   "source": [
    "try:\n",
    "    from dotenv import load_dotenv\n",
    "    load_dotenv(\"./codes/.env\")\n",
    "except ImportError:\n",
    "    print(\"dotenv not installed, skipping...\")"
   ]
  },
  {
   "cell_type": "code",
   "execution_count": 45,
   "metadata": {},
   "outputs": [],
   "source": [
    "TOKEN = os.environ.get(\"APIKEY\")\n",
    "WEBUI_URL = \"https://api.deepseek.com\"\n",
    "MODEL = \"deepseek-chat\""
   ]
  },
  {
   "cell_type": "markdown",
   "metadata": {},
   "source": [
    "### **News Preparation**"
   ]
  },
  {
   "cell_type": "code",
   "execution_count": 55,
   "metadata": {},
   "outputs": [
    {
     "data": {
      "text/plain": [
       "(3742,)"
      ]
     },
     "execution_count": 55,
     "metadata": {},
     "output_type": "execute_result"
    }
   ],
   "source": [
    "news_path = \"./codes/TheHackerNews_Dataset.xlsx\"\n",
    "df = pd.read_excel(news_path)['Article']\n",
    "df.shape"
   ]
  },
  {
   "cell_type": "code",
   "execution_count": 57,
   "metadata": {},
   "outputs": [],
   "source": [
    "%%capture\n",
    "news_path = \"./codes/news/\"\n",
    "create_news(df, output_dir=news_path)"
   ]
  },
  {
   "cell_type": "code",
   "execution_count": 58,
   "metadata": {},
   "outputs": [],
   "source": [
    "news_list = []\n",
    "for file in os.listdir(news_path):\n",
    "    if file.endswith(\".txt\"):\n",
    "        news_list.append(file)\n",
    "news_list.sort()"
   ]
  },
  {
   "cell_type": "code",
   "execution_count": 59,
   "metadata": {},
   "outputs": [
    {
     "data": {
      "text/plain": [
       "{'news006.txt': 'Click Studios, the Australian software firm which confirmed a supply chain attack affecting its Passwordstate password management application, has warned customers of an ongoing phishing attack by an unknown threat actor.\\n\"We have been advised a bad actor has commenced a phishing attack with a small number of customers having received emails requesting urgent action,\" the company said in an updated advisory released on Wednesday. \"These emails are not sent by Click Studios.\"\\nLast week, Click Studios said attackers had employed sophisticated techniques to compromise Passwordstate\\'s update mechanism, using it to drop malware on user computers. Only customers who performed In-Place Upgrades between April 20, 8:33 PM UTC, and April 22, 0:30 AM UTC are said to be affected.\\nWhile Passwordstate serves about 29,000 customers, the Adelaide-based firm maintained that the total number of impacted customers is very low. It\\'s also urging users to refrain from posting correspondence from the company on social media, stating the actor behind the breach is actively monitoring such platforms for information pertaining to the attack in order to exploit it to their advantage for carrying out related intrusions.\\nThe original attack was carried out via a trojanized Passwordstate update file containing a modified DLL (\"moserware.secretsplitter.dll\") that, in turn, extracted retrieved a second-stage payload from a remote server so as to extract sensitive information from compromised systems. As a countermeasure, Click Studios released a hotfix package named \"Moserware.zip\\'\\' to help customers remove the tampered DLL and advised affected users to reset all passwords stored in the password manager.\\nThe newly spotted phishing attack involves crafting seemingly legitimate email messages that \"replicate Click Studios email content\" — based on the emails that were shared by customers on social media — to push a new variant of the malware.\\n\"The phishing attack is requesting customers to download a modified hotfix Moserware.zip file, from a CDN Network not controlled by Click Studios, that now appears to have been taken down,\" the company said. \"Initial analysis indicates this has a newly modified version of the malformed Moserware.SecretSplitter.dll, that on loading then attempts to use an alternate site to obtain the payload file.\"\\nThe Passwordstate hack is the latest high-profile supply-chain attack to come to light in recent months, highlighting how sophisticated threat groups are targeting software built by third parties as a stepping-stone to break into sensitive government and corporate computer networks.\\n\\n',\n",
       " 'news007.txt': 'A staggering number of 3.28 billion passwords linked to 2.18 billion unique email addresses were exposed in what\\'s one of the largest data dumps of breached usernames and passwords.\\nIn addition, the leak includes 1,502,909 passwords associated with email addresses from government domains across the world, with the U.S. government alone taking up 625,505 of the exposed passwords, followed by the U.K (205,099), Australia (136,025), Brazil (68,535), and Canada (50,726).\\nThe findings come from an analysis of a massive 100GB data set called \"COMB21\" — aka Compilation of Many Breaches — that was published for free in an online cybercrime forum earlier this February by putting together data from multiple leaks in different companies and organizations that occurred over the years.\\nIt\\'s worth noting that a leak doesn\\'t imply a breach of public administration systems. The passwords are said to have been obtained via techniques such as password hash cracking after being stolen or through phishing attacks and eavesdropping on insecure, plaintext connections.\\nThe top 10 U.S. government domains affected by the leak are as follows:\\nState Department - state.gov (29,144)\\nVeterans Affairs Department - va.gov (28,937)\\nDepartment of Homeland Security - dhs.gov (21,575)\\nNational Aeronautics and Space Administration - nasa.gov (15,665)\\nInternal Revenue Service - irs.gov (10,480)\\nCenter for Disease Control and Prevention - cdc.gov (8,904)\\nDepartment of Justice - usdoj.gov (8,857)\\nSocial Security Administration - ssa.gov (8,747)\\nU.S. Postal Service - usps.gov (8,205), and\\nEnvironmental Protection Agency - epa.gov (7,986)\\nInterestingly, this leak also includes 13 credentials linked to emails of the Oldsmar water plant in Florida, as previously reported by CyberNews. However, there\\'s no evidence that the breached passwords were used to carry out the cyberattack in February. In contrast, only 18,282 passwords related to Chinese government domains and 1,964 passwords from those related to Russia were laid bare.\\n\"It is an indication that the passwords in these countries, made up of local alphabets, are less targeted by hackers. It is an unexpected layer of protection in relation to the Roman alphabet,\" said Syhunt Founder and Chief Visionary Officer (CVO) Felipe Daragon.\\nOn a related note, a notorious threat actor named ShinyHunters has posted an alleged database consisting of 20 million BigBasket users for free, almost five months after the Indian online grocery delivery startup confirmed a data breach. According to Under the Breach\\'s Alon Gal, the database includes users\\' email addresses, phone numbers, residential addresses, hashed passwords, dates of birth, and order histories.\\nIn the past, ShinyHunters has been connected to the sale of personal data from several companies, including Zoosk, SocialShare, Tokopedia, TeeSpring, Mindful, Minted, Chatbooks, Dave, Promo, Mathway, Wattpad, MeetMindful.com, and StarTribune.\\nUsers who have had their information exposed are strongly advised to change their existing passwords.\\n\\n',\n",
       " 'news008.txt': 'Online trading and discount brokerage platform Upstox has become the latest Indian company to suffer a security breach of its systems, resulting in the exposure of sensitive information of approximately 2.5 million users on the dark web.\\nThe leaked information includes names, email addresses, dates of birth, bank account information, and about 56 million know your customer (KYC) documents pulled from the company\\'s server.\\nThe breach was first disclosed by independent researcher Rajshekhar Rajaharia on April 11. It\\'s not immediately clear when the incident occurred.\\nReacting to the development, the company however said it had recently upgraded its security systems following reports of \"unauthorized access into our database\" while stressing that users\\' funds and securities remained protected.\\nAs a precaution, besides initiating a secure password reset of users\\' accounts, Upstox said it restricted access to the impacted database, implying it was a case of a misconfigured AWS server. In addition, the company said it\\'s incorporating multiple security enhancements at its third-party data warehouses and ring-fencing the network. Upstox refrained from specifying the exact number of client accounts that may have been exposed.\\nNews of Upstox\\'s security breach comes weeks after an India-based digital wallet service MobiKwik dealt with a major security incident after 8.2 terabytes (TB) of data belonging to millions of its users began circulating on cybercrime forums.\\nOther Indian companies such as BigBasket, Dunzo, Edureka, Paytm Mall, and Byju\\'s-owned WhiteHat Jr too have reported data breaches in recent months.\\n\\n',\n",
       " 'news009.txt': 'The maintainers of the PHP programming language have issued an update regarding the security incident that came to light late last month, stating that the actors may have gotten hold of a user database containing their passwords to make unauthorized changes to the repository.\\n\"We no longer believe the git.php.net server has been compromised. However, it is possible that the master.php.net user database leaked,\" Nikita Popov said in a message posted on its mailing list on April 6.\\nOn March 28, unidentified actors used the names of Rasmus Lerdorf and Popov to push malicious commits to the \"php-src\" repository hosted on the git.php.net server that involved adding a backdoor to the PHP source code in an instance of a software supply chain attack.\\nWhile this was initially treated as a compromise of the git.php.net server, further investigation into the incident has revealed that the commits were a result of pushing them using HTTPS and password-based authentication, leading them to suspect a possible leak of the master.php.net user database.\\nThe \"git.php.net (intentionally) support[s] pushing changes not only via SSH (using the Gitolite infrastructure and public key cryptography), but also via HTTPS,\" Popov said. \"The latter did not use Gitolite, and instead used git-http-backend behind Apache 2 Digest authentication against the master.php.net user database.\"\\n\"It is notable that the attacker only makes a few guesses at usernames, and successfully authenticates once the correct username has been found. While we don\\'t have any specific evidence for this, a possible explanation is that the user database of master.php.net has been leaked, although it is unclear why the attacker would need to guess usernames in that case.\"\\nAdditionally, the master.php.net authentication system is said to be on a very old operating system and a version of PHP, raising the possibility that the attackers may have also exploited a vulnerability in the software to stage the attack.\\nAs a consequence, the maintainers have migrated master.php.net to a new main.php.net system with support for TLS 1.2, in addition to resetting all existing passwords and storing passwords using bcrypt instead of a plain MD5 hash.\\n\\n',\n",
       " 'news010.txt': 'In what\\'s likely to be a goldmine for bad actors, personal information associated with approximately 533 million Facebook users worldwide has been leaked on a popular cybercrime forum for free—which was harvested by hackers in 2019 using a Facebook vulnerability.\\nThe leaked data includes full names, Facebook IDs, mobile numbers, locations, email addresses, gender, occupation, city, country, marital status broken, account creation date, and other profile details broken down by country, with over 32 million records belonging to users in the U.S., 11 million users the U.K., and six million users in India, among others.\\nAlso included in the leak are phone numbers from Facebook CEO Mark Zuckerberg, and co-founders Chris Hughes, and Dustin Moskovitz, who are the fourth, fifth, and sixth members to have registered on Facebook.\\nInterestingly, it appears that the same phone number is also registered to his name on the privacy-focussed messaging app Signal. \"Mark Zuckerberg also respects his own privacy, by using a chat app that has end-to-end encryption and isn\\'t owned by @facebook,\" tweeted Synack Red Team researcher Dave Walker.\\nIn total, the data being offered includes user information from 106 countries. Additionally, the data seems to have been obtained by exploiting a vulnerability that enabled automated scripts to scrape Facebook users\\' public profiles and associated private phone numbers en masse. The flaw has since been fixed by Facebook.\\n\"This is old data that was previously reported on in 2019. We found and fixed this issue in August 2019,\" said Liz Bourgeois, Facebook\\'s director of strategic response communications, in a Saturday tweet.\\nOld data or not, the fact that the data appears to have been obtained by scraping Facebook profiles further complicates the company\\'s equation with privacy, even as it has emerged relatively unscathed in the wake of the Cambridge Analytica data scandal, in which the British consulting firm amassed of the personal data of millions of Facebook users without their consent for purposes of political advertising.\\nWhile this data dump appears to have sold in cybercrime communities at least since last year, a Telegram bot that appeared on the scene earlier this January allowed users to look up a phone number and receive the corresponding user\\'s Facebook ID, or vice versa for a fee.\\nBut with the data now available publicly for free, it\\'s likely that the leak will allow malicious adversaries to exploit information for social engineering, marketing scams, and other cybercrimes. Users who have shared their phone numbers and email addresses with Facebook and have not changed them since 2019 are advised to watch out for possible smishing attacks, spam calls, and fraud.\\n\\n'}"
      ]
     },
     "execution_count": 59,
     "metadata": {},
     "output_type": "execute_result"
    }
   ],
   "source": [
    "news_dict = create_newsdict(news_list=news_list[5:10], news_path=news_path)\n",
    "news_dict"
   ]
  },
  {
   "cell_type": "markdown",
   "metadata": {},
   "source": [
    "### **Input Ontology**"
   ]
  },
  {
   "cell_type": "code",
   "execution_count": 60,
   "metadata": {},
   "outputs": [],
   "source": [
    "uni_onto_path = \"./codes/uni_onto/RefinedUnifiedOntology.ttl\"\n",
    "filtered_onto_path = \"./codes/filtered_onto/FilteredUnifiedOntology.ttl\"\n",
    "\n",
    "if os.path.exists(uni_onto_path):\n",
    "    prep_onto(uni_onto_path, filtered_onto_path)\n",
    "    with open(filtered_onto_path, 'r') as file:\n",
    "        initial_ontology = file.read()\n",
    "        file.close()\n",
    "    \n",
    "else:\n",
    "    initial_ontology = None"
   ]
  },
  {
   "cell_type": "markdown",
   "metadata": {},
   "source": [
    "### **Prompts Preparation**"
   ]
  },
  {
   "cell_type": "code",
   "execution_count": 61,
   "metadata": {},
   "outputs": [],
   "source": [
    "initial_prompt_text = \"\"\"I will provide you with a news article, and I want to generate an ontology from it. \n",
    "Please extract key concepts, relationships, and categories from the article and structure them into an ontology. \n",
    "The ontology should be in a structured format of Turtle (.ttl). \n",
    "Here is the news content: \n",
    "\"\"\""
   ]
  },
  {
   "cell_type": "code",
   "execution_count": 62,
   "metadata": {},
   "outputs": [],
   "source": [
    "prompt_text = \"\"\"I will provide you with a news article, and I want to expand upon an existing ontology. \n",
    "Please analyze the new article, extract key concepts, relationships, and categories, and integrate them into the existing ontology while maintaining consistency and avoiding redundancy. \n",
    "Ensure that new concepts complement the previous ontology rather than duplicating existing ones.\n",
    "Only include the instances and properties essential for this specific news. \n",
    "Here is the news content: \n",
    "\"\"\""
   ]
  },
  {
   "cell_type": "markdown",
   "metadata": {},
   "source": [
    "### **Prompt to LLM**"
   ]
  },
  {
   "cell_type": "code",
   "execution_count": null,
   "metadata": {},
   "outputs": [],
   "source": [
    "ontoList, responseList, promptList = generate_onto(initial_prompt_text=initial_prompt_text, \n",
    "                                                   prompt_text=prompt_text, \n",
    "                                                   news_dict=news_dict,\n",
    "                                                   initial_ontology=initial_ontology)  "
   ]
  },
  {
   "cell_type": "markdown",
   "metadata": {},
   "source": [
    "### **Ontology Pipeline**"
   ]
  },
  {
   "cell_type": "code",
   "execution_count": 66,
   "metadata": {},
   "outputs": [],
   "source": [
    "def getFilenames(input_path, extension=''):\n",
    "    return [f for f in next(walk(input_path), (None, None, []))[2] if f.endswith('.ttl')]  # [] if no file"
   ]
  },
  {
   "cell_type": "code",
   "execution_count": null,
   "metadata": {},
   "outputs": [],
   "source": [
    "input_path = \"./1_ontologiesInput/\"\n",
    "connect_output_DIR = \"./2_connectOutput/\"\n",
    "merge_output_DIR = \"./3_mergeOutput/\"\n",
    "refine_output_DIR = \"./4_refineOutput/\"\n",
    "input = getFilenames(input_path, '.ttl')"
   ]
  },
  {
   "cell_type": "code",
   "execution_count": 80,
   "metadata": {},
   "outputs": [],
   "source": [
    "\"\"\"\n",
    "Every files in {input_path} will be updated with a new class,\n",
    "and an individual from said class.\n",
    "The class is named \"CyberNews\", and the individual is named after the file's name.\n",
    "Every other individuals in the ontology will have object property of \"relatedTo\" to said individual. \n",
    "\"\"\"\n",
    "\n",
    "connected = []\n",
    "news_class = \"CybersecurityNewsArticle\"\n",
    "\n",
    "for ind, file in enumerate(input):\n",
    "    if stat(input_path + file).st_size == 0: # skip empty files\n",
    "        continue\n",
    "    g = Graph()\n",
    "    process_lines(f\"{input_path}{file}\", f\"{input_path}{file}\")\n",
    "    g.parse(f\"{input_path}{file}\", format=\"ttl\")\n",
    "\n",
    "    prefix, uri = getNamespace(g)\n",
    "    news_name = file.split('.')[0]  # Get filename, exclude extension\n",
    "    connectIndividuals(g, prefix, uri, news_name, news_class)   \n",
    "\n",
    "    OutputDes = f\"{connect_output_DIR}{news_name}_connected.ttl\"  # Get new files' names\n",
    "    connected.append(OutputDes)\n",
    "    clear_serialize(g, OutputDes)"
   ]
  },
  {
   "cell_type": "code",
   "execution_count": 81,
   "metadata": {},
   "outputs": [],
   "source": [
    "merged_file = f\"./{merge_output_DIR}UnifiedOntology.ttl\""
   ]
  },
  {
   "cell_type": "code",
   "execution_count": 82,
   "metadata": {},
   "outputs": [],
   "source": [
    "for ind, connected_file in enumerate(connected):\n",
    "    append_file(source_file=connected_file, target_file=merged_file)"
   ]
  },
  {
   "cell_type": "code",
   "execution_count": 83,
   "metadata": {},
   "outputs": [],
   "source": [
    "g = Graph()\n",
    "g.parse(merged_file, format=\"ttl\")\n",
    "clear_serialize(g, merged_file)"
   ]
  }
 ],
 "metadata": {
  "kernelspec": {
   "display_name": "deepseek",
   "language": "python",
   "name": "python3"
  },
  "language_info": {
   "codemirror_mode": {
    "name": "ipython",
    "version": 3
   },
   "file_extension": ".py",
   "mimetype": "text/x-python",
   "name": "python",
   "nbconvert_exporter": "python",
   "pygments_lexer": "ipython3",
   "version": "3.12.9"
  }
 },
 "nbformat": 4,
 "nbformat_minor": 2
}
