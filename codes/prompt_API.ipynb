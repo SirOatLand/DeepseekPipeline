{
 "cells": [
  {
   "cell_type": "code",
   "execution_count": 28,
   "metadata": {},
   "outputs": [],
   "source": [
    "import requests\n",
    "import os\n",
    "import json\n",
    "import pandas as pd\n",
    "import re"
   ]
  },
  {
   "cell_type": "code",
   "execution_count": 29,
   "metadata": {},
   "outputs": [],
   "source": [
    "try:\n",
    "    from dotenv import load_dotenv\n",
    "\n",
    "    load_dotenv(\".env\")\n",
    "except ImportError:\n",
    "    print(\"dotenv not installed, skipping...\")"
   ]
  },
  {
   "cell_type": "code",
   "execution_count": null,
   "metadata": {},
   "outputs": [],
   "source": [
    "TOKEN = os.environ.get(\"APIKEY\")\n",
    "WEBUI_URL = \"https://api.deepseek.com\"\n",
    "MODEL = \"deepseek-chat\""
   ]
  },
  {
   "cell_type": "code",
   "execution_count": 31,
   "metadata": {},
   "outputs": [],
   "source": [
    "def create_news(df, limit=20, output_dir=\"./news/\"):\n",
    "    news_list = []\n",
    "    for idx, news in enumerate(df):\n",
    "        filename = f\"news{str(idx + 1).zfill(3)}.txt\"\n",
    "        file_path = os.path.join(output_dir, filename)\n",
    "        content = news\n",
    "\n",
    "        with open(file_path, 'w+') as file:\n",
    "            file.write(content)\n",
    "\n",
    "        news_list.append(filename)\n",
    "        \n",
    "        if idx == limit - 1:\n",
    "            break\n",
    "    return news_list"
   ]
  },
  {
   "cell_type": "code",
   "execution_count": 32,
   "metadata": {},
   "outputs": [],
   "source": [
    "def chat(query):\n",
    "    url = f'{WEBUI_URL}/chat/completions'\n",
    "    headers = {\n",
    "        'Authorization': f'Bearer {TOKEN}',\n",
    "        'Content-Type': 'application/json'\n",
    "    }\n",
    "        \n",
    "    payload = {\n",
    "        'model': MODEL,\n",
    "        'messages': [{'role': 'user', 'content': query}],\n",
    "        'stream' : False,\n",
    "    }\n",
    "\n",
    "    try:\n",
    "        response = requests.post(url, headers=headers, json=payload)\n",
    "        response.raise_for_status()\n",
    "        return json.loads(response.text)\n",
    "    except requests.exceptions.RequestException as e:\n",
    "        return {'error': f\"{str(e)} {response}\"}"
   ]
  },
  {
   "cell_type": "code",
   "execution_count": 34,
   "metadata": {},
   "outputs": [],
   "source": [
    "def extract_turtle(output):\n",
    "    cleaned_text = re.search(r'```(?:ttl|turtle)(.*?)```', output, flags=re.DOTALL)\n",
    "    if cleaned_text is not None:\n",
    "        return cleaned_text.group(1).strip()\n",
    "    else:\n",
    "        return None "
   ]
  },
  {
   "cell_type": "code",
   "execution_count": 35,
   "metadata": {},
   "outputs": [],
   "source": [
    "def create_newsdict(news_list, news_path=\"./news/\"):\n",
    "    news_dict = {} \n",
    "    \n",
    "    for news in news_list:\n",
    "        try:\n",
    "            with open(news_path + news, \"r\") as f:\n",
    "                content = f.read()  \n",
    "            news_dict[news] = content  \n",
    "        except FileNotFoundError:\n",
    "            print(f\"Warning: File {news} not found in path {news_path}. Skipping.\")\n",
    "        except Exception as e:\n",
    "            print(f\"Error reading {news}: {e}\")\n",
    "    \n",
    "    return news_dict"
   ]
  },
  {
   "cell_type": "code",
   "execution_count": 36,
   "metadata": {},
   "outputs": [],
   "source": [
    "def save_ontologies(filename, content, output_dir=\"./news_onto\"):\n",
    "    os.makedirs(output_dir, exist_ok=True)\n",
    "\n",
    "    new_filename = filename.replace(\".txt\", \".ttl\")\n",
    "    file_path = os.path.join(output_dir, new_filename)\n",
    "        \n",
    "    with open(file_path, \"w+\", encoding=\"utf-8\") as file:\n",
    "        file.write(content)\n",
    "        \n",
    "    print(f\"Saved: {file_path}\")"
   ]
  },
  {
   "cell_type": "code",
   "execution_count": 78,
   "metadata": {},
   "outputs": [],
   "source": [
    "def generate_onto(initial_prompt_text, prompt_text, news_dict, initial_ontology=None):\n",
    "    if not (initial_prompt_text and prompt_text and news_dict):\n",
    "         return {}\n",
    "\n",
    "    ontoList = {}       # {'newsXYZ' : 'RDF_ONTOLOGY'}\n",
    "    responseList = []   # Saving response for Debugging\n",
    "    promptList = []     # Saving prompt for Debugging\n",
    "    first_iteration = True # Flag to trigger initial prompt\n",
    "    prompt = None\n",
    "\n",
    "    for news, news_content in news_dict.items():\n",
    "        if first_iteration:\n",
    "            # First Prompt Construction\n",
    "            if initial_ontology:\n",
    "                # Initial prompt w/ initial ontology\n",
    "                prompt = f\"\"\"\n",
    "{prompt_text}\\n\n",
    "{news_content}\\n\n",
    "Here is the ontology:\\n\n",
    "```ttl\n",
    "{initial_ontology}\n",
    "```\n",
    "\"\"\"\n",
    "            else:\n",
    "                # Initial prompt w/o initial ontology\n",
    "                prompt = initial_prompt_text + news_content\n",
    "            first_iteration = False\n",
    "\n",
    "        else:\n",
    "            prompt = f\"\"\"\n",
    "{prompt_text}\\n\n",
    "{news_content}\\n\n",
    "Here is the ontology:\\n\n",
    "```ttl\n",
    "{previous_ttl_content}\n",
    "```\n",
    "\"\"\"\n",
    "\n",
    "        # Send Prompt to LLM\n",
    "        response = chat(query=prompt)\n",
    "\n",
    "        # Debug variables\n",
    "        promptList.append(prompt)\n",
    "        responseList.append(response)\n",
    "\n",
    "        # Get the generated ontology\n",
    "        ttl_content = extract_turtle(response['choices'][0]['message']['content'])\n",
    "\n",
    "        if ttl_content:  \n",
    "            ontoList[news] = ttl_content  \n",
    "            save_ontologies(news, ttl_content)\n",
    "            previous_ttl_content = ttl_content\n",
    "\n",
    "        else:\n",
    "            print(f\"Warning: No ontology extracted for {news}\")\n",
    "\n",
    "    return ontoList, responseList, promptList"
   ]
  },
  {
   "cell_type": "code",
   "execution_count": 79,
   "metadata": {},
   "outputs": [
    {
     "data": {
      "text/plain": [
       "(3742,)"
      ]
     },
     "execution_count": 79,
     "metadata": {},
     "output_type": "execute_result"
    }
   ],
   "source": [
    "df = pd.read_excel(\"./TheHackerNews_Dataset.xlsx\")['Article']\n",
    "df.shape"
   ]
  },
  {
   "cell_type": "code",
   "execution_count": 80,
   "metadata": {},
   "outputs": [],
   "source": [
    "%%capture\n",
    "create_news(df)"
   ]
  },
  {
   "cell_type": "code",
   "execution_count": 81,
   "metadata": {},
   "outputs": [],
   "source": [
    "initial_prompt_text = \"\"\"I will provide you with a news article, and I want to generate an ontology from it. \n",
    "Please extract key concepts, relationships, and categories from the article and structure them into an ontology. \n",
    "The ontology should be in a structured format of Turtle (.ttl). \n",
    "Here is the news content: \n",
    "\"\"\""
   ]
  },
  {
   "cell_type": "code",
   "execution_count": 82,
   "metadata": {},
   "outputs": [],
   "source": [
    "prompt_text = \"\"\"I will provide you with a news article, and I want to expand upon an existing ontology. \n",
    "Please analyze the new article, extract key concepts, relationships, and categories, and integrate them into the existing ontology while maintaining consistency and avoiding redundancy. \n",
    "Ensure that new concepts complement the previous ontology rather than duplicating existing ones.\n",
    "Only include the instances and properties essential for this specific news. \n",
    "Here is the news content: \n",
    "\"\"\""
   ]
  },
  {
   "cell_type": "code",
   "execution_count": 83,
   "metadata": {},
   "outputs": [],
   "source": [
    "news_path = \"./news/\""
   ]
  },
  {
   "cell_type": "code",
   "execution_count": 84,
   "metadata": {},
   "outputs": [],
   "source": [
    "news_list = []\n",
    "for file in os.listdir(news_path):\n",
    "    if file.endswith(\".txt\"):\n",
    "        news_list.append(file)\n",
    "news_list.sort()"
   ]
  },
  {
   "cell_type": "code",
   "execution_count": 85,
   "metadata": {},
   "outputs": [],
   "source": [
    "news_dict = create_newsdict(news_list=news_list, news_path=news_path)"
   ]
  },
  {
   "cell_type": "code",
   "execution_count": 86,
   "metadata": {},
   "outputs": [
    {
     "data": {
      "text/plain": [
       "{'news001.txt': 'Cloud infrastructure security company Wiz on Thursday revealed details of a now-fixed Azure Cosmos database vulnerability that could have been potentially exploited to grant any Azure user full admin access to other customers\\' database instances without any authorization.\\nThe flaw, which grants read, write, and delete privileges, has been dubbed \"ChaosDB,\" with Wiz researchers noting that \"the vulnerability has a trivial exploit that doesn\\'t require any previous access to the target environment, and impacts thousands of organizations, including numerous Fortune 500 companies.\"\\nCosmos DB is Microsoft\\'s proprietary NoSQL database that\\'s advertised as \"a fully managed service\" that \"takes database administration off your hands with automatic management, updates and patching.\"\\nThe Wiz Research Team reported the issue to Microsoft on August 12, after which the Windows maker took steps to mitigate the issue within 48 hours of responsible disclosure, in addition to awarding a $40,000 bounty to the finders on August 17.\\n\"We have no indication that external entities outside the researcher had access to the primary read-write key associated with your Azure Cosmos DB account(s),\" Microsoft said in a statement. \"In addition, we are not aware of any data access because of this vulnerability. Azure Cosmos DB accounts with a vNET or firewall enabled are protected by additional security mechanisms that prevent risk of unauthorized access.\"\\nThe exploit identified by Wiz concerns a chain of vulnerabilities in the Jupyter Notebook feature of Cosmos DB, enabling an adversary to obtain the credentials corresponding to the target Cosmos DB account, including the Primary Key, which provides access to the administrative resources for the database account.\\n\"Using these credentials, it is possible to view, modify, and delete data in the target Cosmos DB account via multiple channels,\" the researchers said. As a consequence, any Cosmos DB asset that has the Jupyter Notebook feature enabled is potentially impacted.\\nAlthough Microsoft notified over 30% of Cosmos DB customers about the potential security breach, Wiz expects the actual number to be much higher, given that the vulnerability has been exploitable for months.\\n\"Every Cosmos DB customer should assume they\\'ve been exposed,\" Wiz researchers noted, adding, \"we also recommend reviewing all past activity in your Cosmos DB account.\" Additionally, Microsoft is also urging its customers to regenerate their Cosmos DB Primary Keys to mitigate any risk arising from the flaw.\\n\\n',\n",
       " 'news002.txt': 'ShinyHunters, a notorious cybercriminal underground group that\\'s been on a data breach spree since last year, has been observed searching companies\\' GitHub repository source code for vulnerabilities that can be abused to stage larger scale attacks, an analysis of the hackers\\' modus operandi has revealed.\\n\"Primarily operating on Raid Forums, the collective\\'s moniker and motivation can partly be derived from their avatar on social media and other forums: a shiny Umbreon Pokémon,\" Intel 471 researchers said in a report shared with The Hacker News. \"As Pokémon players hunt and collect \"shiny\" characters in the game, ShinyHunters collects and resells user data.\"\\nThe revelation comes as the average cost of a data breach rose from $3.86 million to $4.24 million, making it the highest average cost in 17 years, with compromised credentials responsible for 20% of the breaches reported by over 500 organizations.\\nSince rising to prominence in April 2020, ShinyHunters has claimed responsibility for a string of data breaches, including Tokopedia, Wattpad, Pixlr, Bonobos, BigBasket, Mathway, Unacademy, MeetMindful, and Microsoft\\'s GitHub account, among others.\\nAn assessment by Risk Based Security found that the threat actor has exposed a total of more than 1.12 million unique email addresses belonging to S&P 100 organizations, education, government and military entities as of late 2020.\\nLast week, the group began selling a database purportedly containing the personal information of 70 million AT&T customers for a starting price of $200,000, although the U.S. telecom provider has denied suffering a breach of its systems.\\nShinyHunters has a checkered history of compromising websites and developer repositories to steal credentials or API keys to a company\\'s cloud services, which are subsequently abused to gain access to databases and gather sensitive information to be resold for profit or published for free on hacker forums.\\nThe adversary has also been observed targeting DevOps personnel or GitHub repositories in order to steal valid OAuth tokens, leveraging them to breach cloud infrastructure and bypass any two-factor authentication mechanisms.\\n\"ShinyHunters may not have as much notoriety as the ransomware groups that are currently causing havoc for enterprises all over the world. However, tracking actors like this are crucial to preventing your enterprise from being hit with such an attack,\" the researchers said.\\n\"The information ShinyHunters gathers is often turned around and sold on the same underground marketplaces where ransomware actors use it to launch their own attacks. If enterprises can move to detect activity like ShinyHunters, they in turn can stop ransomware attacks before they are ever launched.\"\\n\\n',\n",
       " 'news003.txt': 'Even as a massive data breach affecting Air India came to light the previous month, India\\'s flag carrier airline appears to have suffered a separate cyber assault that lasted for a period of at least two months and 26 days, new research has revealed, which attributed the incident with moderate confidence to a Chinese nation-state threat actor called APT41.\\nGroup-IB dubbed the campaign \"ColunmTK\" based on the names of command-and-control (C2) server domains that were used for facilitating communications with the compromised systems.\\n\"The potential ramifications of this incident for the entire airline industry and carriers that might yet discover traces of ColunmTK in their networks are significant,\" the Singapore-headquartered threat hunting company said.\\nWhile Group-IB alluded that this may have been a supply chain attack targeting SITA, the Swiss aviation information technology company told The Hacker News that they are two different security incidents.\\n\"The airline confirmed vis-à-vis SITA on June 11, 2021 that the cyber attack on Air India [...] is not the same or in any way linked to the attack on SITA PSS,\" SITA told our publication over email.\\nAlso known by other monikers such as Winnti Umbrella, Axiom and Barium, APT41 is a prolific Chinese-speaking nation-state advanced persistent threat known for its campaigns centered around information theft and espionage against healthcare, high-tech, and telecommunications sectors to establish and maintain strategic access for stealing intellectual property and committing financially motivated cybercrimes.\\n\"Their cyber crime intrusions are most apparent among video game industry targeting, including the manipulation of virtual currencies, and attempted deployment of ransomware,\" according to FireEye. \"APT41 operations against higher education, travel services, and news/media firms provide some indication that the group also tracks individuals and conducts surveillance.\"\\nOn May 21, Air India disclosed a data breach affecting 4.5 million of its customers over a period stretching nearly 10 years in the wake of a supply chain attack directed at its Passenger Service System (PSS) provider SITA earlier this February.\\nThe breach involved personal data registered between Aug. 26, 2011, and Feb. 3, 2021, including details such as names, dates of birth, contact information, passport information, ticket information, Star Alliance, and Air India frequent flyer data, as well as credit card data.\\nFireEye\\'s Mandiant, which is assisting SITA with the incident response efforts, has since determined that the attack was highly sophisticated and that the tactics, techniques, and procedures (TTPs) and compromise indicators point to a single entity, adding the \"identity and motive of the perpetrator are not entirely conclusive.\"\\nLikely a New Attack Against Air India\\nGroup-IB\\'s analysis has now revealed that at least since Feb. 23, an infected device inside Air India\\'s network (named \"SITASERVER4\") communicated with a server hosting Cobalt Strike payloads dating all the way back to Dec. 11, 2020.\\nFollowing this initial compromise, the attackers are said to have established persistence and obtained passwords in order to pivot laterally to the broader network with the goal of gathering information inside the local network.\\nNo fewer than 20 devices were infected during the course of lateral movement, the company said. \"The attackers exfiltrated NTLM hashes and plain-text passwords from local workstations using hashdump and mimikatz,\" Group-IB Threat Intelligence Analyst, Nikita Rostovcev, said. \"The attackers tried to escalate local privileges with the help of BadPotato malware.\"\\nIn all, the adversary extracted 23.33 MB of data from five devices named SITASERVER4, AILCCUALHSV001, AILDELCCPOSCE01, AILDELCCPDB01, and WEBSERVER3, with the attackers taking 24 hours and 5 minutes to spread Cobalt Strike beacons to other devices in the airline\\'s network. The initial entry point for the attack remains unknown as yet.\\nConnections to Barium are grounded on the basis of overlaps between the C2 servers found in the attack infrastructure with those used in earlier attacks and tactics employed by the threat actor to park their domains once their operations are over. Group-IB also said it discovered a file named \"Install.bat\" that bore similarities to payloads deployed in a 2020 global intrusion campaign.\\nWhen reached for a response, Group-IB CTO Dmitry Volkov told The Hacker News that \"Despite the fact that the initial compromise vector remains unknown, Group-IB treats [the] SITA incident and Air India breach as interrelated.\"\\n\"This assumption is built on the fact that it was a server in Air India\\'s network that, Group-IB assumes, might have established [a] connection with SITA\\'s network that was breached first. According to Group-IB\\'s data, SITASERVER4 was the first host to have been infected within Air India\\'s network. This has also been confirmed by Air India,\" Volkov added.\\nHowever, it\\'s worth noting that SITASERVER4 was neither owned or managed by SITA. Speaking on background, SITA noted that the server in question had been previously used to host software offered by the company to Air India and that the specific software was removed from the server in 2019.\\nThe aviation IT provider also clarified that none of the methods that were used to target Air India since February 23 were put to use in the attacks on SITA PSS, adding the adversary was removed from its network weeks prior to the start of the malicious activity directed against the airline, implying that the two incidents had no bearing on one another.\\n\\n'}"
      ]
     },
     "execution_count": 86,
     "metadata": {},
     "output_type": "execute_result"
    }
   ],
   "source": [
    "news_dict_test = dict(list(news_dict.items())[:3])\n",
    "news_dict_test"
   ]
  },
  {
   "cell_type": "code",
   "execution_count": 87,
   "metadata": {},
   "outputs": [
    {
     "name": "stdout",
     "output_type": "stream",
     "text": [
      "Saved: ./news_onto/news001.ttl\n",
      "Saved: ./news_onto/news002.ttl\n",
      "Saved: ./news_onto/news003.ttl\n"
     ]
    }
   ],
   "source": [
    "ontoList, responseList, promptList = generate_onto(initial_prompt_text=initial_prompt_text, prompt_text=prompt_text, news_dict=news_dict_test)"
   ]
  },
  {
   "cell_type": "code",
   "execution_count": 91,
   "metadata": {},
   "outputs": [
    {
     "data": {
      "text/plain": [
       "{'news001.txt': '@prefix rdf: <http://www.w3.org/1999/02/22-rdf-syntax-ns#> .\\n@prefix rdfs: <http://www.w3.org/2000/01/rdf-schema#> .\\n@prefix owl: <http://www.w3.org/2002/07/owl#> .\\n@prefix xsd: <http://www.w3.org/2001/XMLSchema#> .\\n@prefix ex: <http://example.org/ontology#> .\\n\\n# Classes\\nex:Vulnerability a rdfs:Class .\\nex:Company a rdfs:Class .\\nex:Database a rdfs:Class .\\nex:SecurityFlaw a rdfs:Class .\\nex:Feature a rdfs:Class .\\nex:Researcher a rdfs:Class .\\nex:Customer a rdfs:Class .\\nex:Key a rdfs:Class .\\nex:Statement a rdfs:Class .\\nex:Notification a rdfs:Class .\\n\\n# Instances\\nex:Wiz a ex:Company ;\\n    rdfs:label \"Wiz\" .\\n\\nex:Microsoft a ex:Company ;\\n    rdfs:label \"Microsoft\" .\\n\\nex:AzureCosmosDB a ex:Database ;\\n    rdfs:label \"Azure Cosmos DB\" ;\\n    ex:hasFeature ex:JupyterNotebook .\\n\\nex:JupyterNotebook a ex:Feature ;\\n    rdfs:label \"Jupyter Notebook\" .\\n\\nex:ChaosDB a ex:Vulnerability ;\\n    rdfs:label \"ChaosDB\" ;\\n    ex:discoveredBy ex:WizResearchTeam ;\\n    ex:reportedTo ex:Microsoft ;\\n    ex:disclosureDate \"2021-08-12\"^^xsd:date ;\\n    ex:mitigationDate \"2021-08-14\"^^xsd:date ;\\n    ex:bountyAmount 40000 ;\\n    ex:impactedFeature ex:JupyterNotebook ;\\n    ex:affectedPrivileges \"read, write, delete\" ;\\n    ex:potentialImpact ex:Fortune500Companies .\\n\\nex:WizResearchTeam a ex:Researcher ;\\n    rdfs:label \"Wiz Research Team\" .\\n\\nex:Fortune500Companies a ex:Customer ;\\n    rdfs:label \"Fortune 500 Companies\" .\\n\\nex:PrimaryKey a ex:Key ;\\n    rdfs:label \"Primary Key\" ;\\n    ex:associatedWith ex:AzureCosmosDB .\\n\\nex:MicrosoftStatement a ex:Statement ;\\n    rdfs:label \"Microsoft Statement\" ;\\n    ex:content \"We have no indication that external entities outside the researcher had access to the primary read-write key associated with your Azure Cosmos DB account(s). In addition, we are not aware of any data access because of this vulnerability. Azure Cosmos DB accounts with a vNET or firewall enabled are protected by additional security mechanisms that prevent risk of unauthorized access.\" .\\n\\nex:CustomerNotification a ex:Notification ;\\n    rdfs:label \"Customer Notification\" ;\\n    ex:issuedBy ex:Microsoft ;\\n    ex:notificationDate \"2021-08-14\"^^xsd:date ;\\n    ex:notificationPercentage \"30%\" .\\n\\n# Relationships\\nex:discoveredBy a rdf:Property ;\\n    rdfs:domain ex:Vulnerability ;\\n    rdfs:range ex:Researcher .\\n\\nex:reportedTo a rdf:Property ;\\n    rdfs:domain ex:Vulnerability ;\\n    rdfs:range ex:Company .\\n\\nex:mitigationDate a rdf:Property ;\\n    rdfs:domain ex:Vulnerability ;\\n    rdfs:range xsd:date .\\n\\nex:bountyAmount a rdf:Property ;\\n    rdfs:domain ex:Vulnerability ;\\n    rdfs:range xsd:integer .\\n\\nex:impactedFeature a rdf:Property ;\\n    rdfs:domain ex:Vulnerability ;\\n    rdfs:range ex:Feature .\\n\\nex:affectedPrivileges a rdf:Property ;\\n    rdfs:domain ex:Vulnerability ;\\n    rdfs:range xsd:string .\\n\\nex:potentialImpact a rdf:Property ;\\n    rdfs:domain ex:Vulnerability ;\\n    rdfs:range ex:Customer .\\n\\nex:associatedWith a rdf:Property ;\\n    rdfs:domain ex:Key ;\\n    rdfs:range ex:Database .\\n\\nex:issuedBy a rdf:Property ;\\n    rdfs:domain ex:Notification ;\\n    rdfs:range ex:Company .\\n\\nex:notificationDate a rdf:Property ;\\n    rdfs:domain ex:Notification ;\\n    rdfs:range xsd:date .\\n\\nex:notificationPercentage a rdf:Property ;\\n    rdfs:domain ex:Notification ;\\n    rdfs:range xsd:string .',\n",
       " 'news002.txt': '@prefix rdf: <http://www.w3.org/1999/02/22-rdf-syntax-ns#> .\\n@prefix rdfs: <http://www.w3.org/2000/01/rdf-schema#> .\\n@prefix owl: <http://www.w3.org/2002/07/owl#> .\\n@prefix xsd: <http://www.w3.org/2001/XMLSchema#> .\\n@prefix ex: <http://example.org/ontology#> .\\n\\n# New Classes\\nex:CybercriminalGroup a rdfs:Class .\\nex:DataBreach a rdfs:Class .\\nex:CloudService a rdfs:Class .\\nex:OAuthToken a rdfs:Class .\\nex:HackerForum a rdfs:Class .\\nex:RansomwareGroup a rdfs:Class .\\n\\n# New Instances\\nex:ShinyHunters a ex:CybercriminalGroup ;\\n    rdfs:label \"ShinyHunters\" ;\\n    ex:operatesOn ex:RaidForums ;\\n    ex:targets ex:GitHub, ex:AT&T ;\\n    ex:leverages ex:OAuthToken .\\n\\nex:RaidForums a ex:HackerForum ;\\n    rdfs:label \"Raid Forums\" .\\n\\nex:AT&T a ex:Company ;\\n    rdfs:label \"AT&T\" .\\n\\nex:GitHub a ex:Platform ;\\n    rdfs:label \"GitHub\" .\\n\\nex:Intel471 a ex:Researcher ;\\n    rdfs:label \"Intel 471\" .\\n\\nex:RiskBasedSecurity a ex:Researcher ;\\n    rdfs:label \"Risk Based Security\" .\\n\\nex:AT&TDataBreach a ex:DataBreach ;\\n    rdfs:label \"AT&T Data Breach\" ;\\n    ex:exposes \"70 million customer records\" ;\\n    ex:soldBy ex:ShinyHunters ;\\n    ex:deniedBy ex:AT&T .\\n\\nex:OAuthToken a ex:Key ;\\n    rdfs:label \"OAuth Token\" .\\n\\n# New Properties\\nex:operatesOn a rdf:Property ;\\n    rdfs:domain ex:CybercriminalGroup ;\\n    rdfs:range ex:HackerForum .\\n\\nex:targets a rdf:Property ;\\n    rdfs:domain ex:CybercriminalGroup ;\\n    rdfs:range ex:Company, ex:Platform .\\n\\nex:exposes a rdf:Property ;\\n    rdfs:domain ex:DataBreach ;\\n    rdfs:range xsd:string .\\n\\nex:sells a rdf:Property ;\\n    rdfs:domain ex:CybercriminalGroup ;\\n    rdfs:range ex:DataBreach .\\n\\nex:denies a rdf:Property ;\\n    rdfs:domain ex:Company ;\\n    rdfs:range ex:DataBreach .\\n\\nex:leverages a rdf:Property ;\\n    rdfs:domain ex:CybercriminalGroup ;\\n    rdfs:range ex:Key, ex:CloudService .\\n\\n# Existing Instances (updated if necessary)\\nex:Microsoft a ex:Company ;\\n    rdfs:label \"Microsoft\" ;\\n    ex:targetedBy ex:ShinyHunters .\\n\\n# Existing Properties (no changes needed)',\n",
       " 'news003.txt': '@prefix rdf: <http://www.w3.org/1999/02/22-rdf-syntax-ns#> .\\n@prefix rdfs: <http://www.w3.org/2000/01/rdf-schema#> .\\n@prefix owl: <http://www.w3.org/2002/07/owl#> .\\n@prefix xsd: <http://www.w3.org/2001/XMLSchema#> .\\n@prefix ex: <http://example.org/ontology#> .\\n\\n# New Classes\\nex:ThreatActor a rdfs:Class .\\nex:Malware a rdfs:Class .\\nex:Server a rdfs:Class .\\nex:Network a rdfs:Class .\\nex:IncidentResponse a rdfs:Class .\\nex:PassengerServiceSystem a rdfs:Class .\\n\\n# New Instances\\nex:APT41 a ex:ThreatActor ;\\n    rdfs:label \"APT41\" ;\\n    ex:alsoKnownAs \"Winnti Umbrella\", \"Axiom\", \"Barium\" ;\\n    ex:targets ex:Healthcare, ex:HighTech, ex:Telecommunications, ex:VideoGameIndustry, ex:HigherEducation, ex:TravelServices, ex:NewsMedia ;\\n    ex:motivation ex:InformationTheft, ex:Espionage, ex:FinancialGain .\\n\\nex:ColunmTK a ex:CyberAttack ;\\n    rdfs:label \"ColunmTK\" ;\\n    ex:attributedTo ex:APT41 ;\\n    ex:targets ex:AirIndia ;\\n    ex:uses ex:CobaltStrike, ex:BadPotato, ex:Mimikatz ;\\n    ex:duration \"P2M26D\"^^xsd:duration ;\\n    ex:exfiltrates ex:NTLMHash, ex:PlainTextPasswords .\\n\\nex:AirIndia a ex:Company ;\\n    rdfs:label \"Air India\" ;\\n    ex:affectedBy ex:ColunmTK, ex:AirIndiaDataBreach .\\n\\nex:AirIndiaDataBreach a ex:DataBreach ;\\n    rdfs:label \"Air India Data Breach\" ;\\n    ex:exposes \"4.5 million customer records\" ;\\n    ex:duration \"P10Y\"^^xsd:duration ;\\n    ex:affects ex:AirIndia ;\\n    ex:involves ex:PersonalData, ex:PassportInformation, ex:TicketInformation, ex:StarAllianceData, ex:FrequentFlyerData, ex:CreditCardData .\\n\\nex:SITA a ex:Company ;\\n    rdfs:label \"SITA\" ;\\n    ex:provides ex:PassengerServiceSystem ;\\n    ex:affectedBy ex:SITAPSSAttack .\\n\\nex:SITAPSSAttack a ex:CyberAttack ;\\n    rdfs:label \"SITA PSS Attack\" ;\\n    ex:targets ex:SITA ;\\n    ex:affects ex:AirIndia .\\n\\nex:GroupIB a ex:Researcher ;\\n    rdfs:label \"Group-IB\" ;\\n    ex:investigates ex:ColunmTK .\\n\\nex:FireEye a ex:Researcher ;\\n    rdfs:label \"FireEye\" ;\\n    ex:investigates ex:SITAPSSAttack .\\n\\nex:CobaltStrike a ex:Malware ;\\n    rdfs:label \"Cobalt Strike\" .\\n\\nex:BadPotato a ex:Malware ;\\n    rdfs:label \"BadPotato\" .\\n\\nex:Mimikatz a ex:Malware ;\\n    rdfs:label \"Mimikatz\" .\\n\\nex:SITASERVER4 a ex:Server ;\\n    rdfs:label \"SITASERVER4\" ;\\n    ex:partOf ex:AirIndiaNetwork ;\\n    ex:infectedBy ex:ColunmTK .\\n\\nex:AirIndiaNetwork a ex:Network ;\\n    rdfs:label \"Air India Network\" ;\\n    ex:contains ex:SITASERVER4, ex:AILCCUALHSV001, ex:AILDELCCPOSCE01, ex:AILDELCCPDB01, ex:WEBSERVER3 .\\n\\nex:PassengerServiceSystem a ex:System ;\\n    rdfs:label \"Passenger Service System\" ;\\n    ex:providedBy ex:SITA ;\\n    ex:usedBy ex:AirIndia .\\n\\n# New Properties\\nex:attributedTo a rdf:Property ;\\n    rdfs:domain ex:CyberAttack ;\\n    rdfs:range ex:ThreatActor .\\n\\nex:alsoKnownAs a rdf:Property ;\\n    rdfs:domain ex:ThreatActor ;\\n    rdfs:range xsd:string .\\n\\nex:motivation a rdf:Property ;\\n    rdfs:domain ex:ThreatActor ;\\n    rdfs:range xsd:string .\\n\\nex:uses a rdf:Property ;\\n    rdfs:domain ex:CyberAttack ;\\n    rdfs:range ex:Malware .\\n\\nex:duration a rdf:Property ;\\n    rdfs:domain ex:DataBreach, ex:CyberAttack ;\\n    rdfs:range xsd:duration .\\n\\nex:exfiltrates a rdf:Property ;\\n    rdfs:domain ex:CyberAttack ;\\n    rdfs:range ex:Data .\\n\\nex:partOf a rdf:Property ;\\n    rdfs:domain ex:Server ;\\n    rdfs:range ex:Network .\\n\\nex:contains a rdf:Property ;\\n    rdfs:domain ex:Network ;\\n    rdfs:range ex:Server .\\n\\nex:providedBy a rdf:Property ;\\n    rdfs:domain ex:System ;\\n    rdfs:range ex:Company .\\n\\nex:usedBy a rdf:Property ;\\n    rdfs:domain ex:System ;\\n    rdfs:range ex:Company .\\n\\n# Existing Instances (updated if necessary)\\nex:Microsoft a ex:Company ;\\n    rdfs:label \"Microsoft\" ;\\n    ex:targetedBy ex:ShinyHunters .\\n\\n# Existing Properties (no changes needed)'}"
      ]
     },
     "execution_count": 91,
     "metadata": {},
     "output_type": "execute_result"
    }
   ],
   "source": [
    "ontoList"
   ]
  },
  {
   "cell_type": "code",
   "execution_count": 92,
   "metadata": {},
   "outputs": [
    {
     "data": {
      "text/plain": [
       "[{'id': '23a7e593-7380-4339-acf5-963a2d1337de',\n",
       "  'object': 'chat.completion',\n",
       "  'created': 1741672887,\n",
       "  'model': 'deepseek-chat',\n",
       "  'choices': [{'index': 0,\n",
       "    'message': {'role': 'assistant',\n",
       "     'content': 'Here is the ontology in Turtle (`.ttl`) format, structured based on the key concepts, relationships, and categories extracted from the news article:\\n\\n```turtle\\n@prefix rdf: <http://www.w3.org/1999/02/22-rdf-syntax-ns#> .\\n@prefix rdfs: <http://www.w3.org/2000/01/rdf-schema#> .\\n@prefix owl: <http://www.w3.org/2002/07/owl#> .\\n@prefix xsd: <http://www.w3.org/2001/XMLSchema#> .\\n@prefix ex: <http://example.org/ontology#> .\\n\\n# Classes\\nex:Vulnerability a rdfs:Class .\\nex:Company a rdfs:Class .\\nex:Database a rdfs:Class .\\nex:SecurityFlaw a rdfs:Class .\\nex:Feature a rdfs:Class .\\nex:Researcher a rdfs:Class .\\nex:Customer a rdfs:Class .\\nex:Key a rdfs:Class .\\nex:Statement a rdfs:Class .\\nex:Notification a rdfs:Class .\\n\\n# Instances\\nex:Wiz a ex:Company ;\\n    rdfs:label \"Wiz\" .\\n\\nex:Microsoft a ex:Company ;\\n    rdfs:label \"Microsoft\" .\\n\\nex:AzureCosmosDB a ex:Database ;\\n    rdfs:label \"Azure Cosmos DB\" ;\\n    ex:hasFeature ex:JupyterNotebook .\\n\\nex:JupyterNotebook a ex:Feature ;\\n    rdfs:label \"Jupyter Notebook\" .\\n\\nex:ChaosDB a ex:Vulnerability ;\\n    rdfs:label \"ChaosDB\" ;\\n    ex:discoveredBy ex:WizResearchTeam ;\\n    ex:reportedTo ex:Microsoft ;\\n    ex:disclosureDate \"2021-08-12\"^^xsd:date ;\\n    ex:mitigationDate \"2021-08-14\"^^xsd:date ;\\n    ex:bountyAmount 40000 ;\\n    ex:impactedFeature ex:JupyterNotebook ;\\n    ex:affectedPrivileges \"read, write, delete\" ;\\n    ex:potentialImpact ex:Fortune500Companies .\\n\\nex:WizResearchTeam a ex:Researcher ;\\n    rdfs:label \"Wiz Research Team\" .\\n\\nex:Fortune500Companies a ex:Customer ;\\n    rdfs:label \"Fortune 500 Companies\" .\\n\\nex:PrimaryKey a ex:Key ;\\n    rdfs:label \"Primary Key\" ;\\n    ex:associatedWith ex:AzureCosmosDB .\\n\\nex:MicrosoftStatement a ex:Statement ;\\n    rdfs:label \"Microsoft Statement\" ;\\n    ex:content \"We have no indication that external entities outside the researcher had access to the primary read-write key associated with your Azure Cosmos DB account(s). In addition, we are not aware of any data access because of this vulnerability. Azure Cosmos DB accounts with a vNET or firewall enabled are protected by additional security mechanisms that prevent risk of unauthorized access.\" .\\n\\nex:CustomerNotification a ex:Notification ;\\n    rdfs:label \"Customer Notification\" ;\\n    ex:issuedBy ex:Microsoft ;\\n    ex:notificationDate \"2021-08-14\"^^xsd:date ;\\n    ex:notificationPercentage \"30%\" .\\n\\n# Relationships\\nex:discoveredBy a rdf:Property ;\\n    rdfs:domain ex:Vulnerability ;\\n    rdfs:range ex:Researcher .\\n\\nex:reportedTo a rdf:Property ;\\n    rdfs:domain ex:Vulnerability ;\\n    rdfs:range ex:Company .\\n\\nex:mitigationDate a rdf:Property ;\\n    rdfs:domain ex:Vulnerability ;\\n    rdfs:range xsd:date .\\n\\nex:bountyAmount a rdf:Property ;\\n    rdfs:domain ex:Vulnerability ;\\n    rdfs:range xsd:integer .\\n\\nex:impactedFeature a rdf:Property ;\\n    rdfs:domain ex:Vulnerability ;\\n    rdfs:range ex:Feature .\\n\\nex:affectedPrivileges a rdf:Property ;\\n    rdfs:domain ex:Vulnerability ;\\n    rdfs:range xsd:string .\\n\\nex:potentialImpact a rdf:Property ;\\n    rdfs:domain ex:Vulnerability ;\\n    rdfs:range ex:Customer .\\n\\nex:associatedWith a rdf:Property ;\\n    rdfs:domain ex:Key ;\\n    rdfs:range ex:Database .\\n\\nex:issuedBy a rdf:Property ;\\n    rdfs:domain ex:Notification ;\\n    rdfs:range ex:Company .\\n\\nex:notificationDate a rdf:Property ;\\n    rdfs:domain ex:Notification ;\\n    rdfs:range xsd:date .\\n\\nex:notificationPercentage a rdf:Property ;\\n    rdfs:domain ex:Notification ;\\n    rdfs:range xsd:string .\\n```\\n\\n### Explanation:\\n1. **Classes**: Defined classes such as `Vulnerability`, `Company`, `Database`, `SecurityFlaw`, etc., to categorize the entities in the article.\\n2. **Instances**: Created instances for specific entities like `Wiz`, `Microsoft`, `AzureCosmosDB`, `ChaosDB`, etc.\\n3. **Relationships**: Defined properties like `discoveredBy`, `reportedTo`, `mitigationDate`, etc., to capture relationships between instances.\\n4. **Data Types**: Used `xsd:date`, `xsd:integer`, and `xsd:string` for appropriate data types.\\n\\nThis ontology captures the key elements of the news article and their relationships in a structured format.'},\n",
       "    'logprobs': None,\n",
       "    'finish_reason': 'stop'}],\n",
       "  'usage': {'prompt_tokens': 543,\n",
       "   'completion_tokens': 1185,\n",
       "   'total_tokens': 1728,\n",
       "   'prompt_tokens_details': {'cached_tokens': 0},\n",
       "   'prompt_cache_hit_tokens': 0,\n",
       "   'prompt_cache_miss_tokens': 543},\n",
       "  'system_fingerprint': 'fp_3a5770e1b4_prod0225'},\n",
       " {'id': '49b5c09a-5510-4d76-b201-d9773826ad63',\n",
       "  'object': 'chat.completion',\n",
       "  'created': 1741672955,\n",
       "  'model': 'deepseek-chat',\n",
       "  'choices': [{'index': 0,\n",
       "    'message': {'role': 'assistant',\n",
       "     'content': 'To expand the existing ontology with the new information from the news article, we need to extract key concepts, relationships, and categories. Here\\'s how we can integrate the new information while maintaining consistency and avoiding redundancy:\\n\\n### New Classes\\n1. **CybercriminalGroup**: Represents groups involved in cybercrime.\\n2. **DataBreach**: Represents incidents where data is compromised.\\n3. **CloudService**: Represents cloud-based services.\\n4. **OAuthToken**: Represents OAuth tokens used for authentication.\\n5. **HackerForum**: Represents forums where cybercriminals operate.\\n6. **RansomwareGroup**: Represents groups involved in ransomware attacks.\\n\\n### New Instances\\n1. **ShinyHunters**: A cybercriminal group.\\n2. **RaidForums**: A hacker forum.\\n3. **AT&T**: A company affected by a data breach.\\n4. **GitHub**: A platform targeted by ShinyHunters.\\n5. **Intel471**: A research group.\\n6. **RiskBasedSecurity**: A security assessment firm.\\n\\n### New Properties\\n1. **operatesOn**: Links a cybercriminal group to a hacker forum.\\n2. **targets**: Links a cybercriminal group to a company or platform.\\n3. **exposes**: Links a data breach to the data exposed.\\n4. **sells**: Links a cybercriminal group to the data they sell.\\n5. **denies**: Links a company to a statement denying a breach.\\n6. **leverages**: Links a cybercriminal group to the tools or methods they use.\\n\\n### Updated Ontology\\n```ttl\\n@prefix rdf: <http://www.w3.org/1999/02/22-rdf-syntax-ns#> .\\n@prefix rdfs: <http://www.w3.org/2000/01/rdf-schema#> .\\n@prefix owl: <http://www.w3.org/2002/07/owl#> .\\n@prefix xsd: <http://www.w3.org/2001/XMLSchema#> .\\n@prefix ex: <http://example.org/ontology#> .\\n\\n# New Classes\\nex:CybercriminalGroup a rdfs:Class .\\nex:DataBreach a rdfs:Class .\\nex:CloudService a rdfs:Class .\\nex:OAuthToken a rdfs:Class .\\nex:HackerForum a rdfs:Class .\\nex:RansomwareGroup a rdfs:Class .\\n\\n# New Instances\\nex:ShinyHunters a ex:CybercriminalGroup ;\\n    rdfs:label \"ShinyHunters\" ;\\n    ex:operatesOn ex:RaidForums ;\\n    ex:targets ex:GitHub, ex:AT&T ;\\n    ex:leverages ex:OAuthToken .\\n\\nex:RaidForums a ex:HackerForum ;\\n    rdfs:label \"Raid Forums\" .\\n\\nex:AT&T a ex:Company ;\\n    rdfs:label \"AT&T\" .\\n\\nex:GitHub a ex:Platform ;\\n    rdfs:label \"GitHub\" .\\n\\nex:Intel471 a ex:Researcher ;\\n    rdfs:label \"Intel 471\" .\\n\\nex:RiskBasedSecurity a ex:Researcher ;\\n    rdfs:label \"Risk Based Security\" .\\n\\nex:AT&TDataBreach a ex:DataBreach ;\\n    rdfs:label \"AT&T Data Breach\" ;\\n    ex:exposes \"70 million customer records\" ;\\n    ex:soldBy ex:ShinyHunters ;\\n    ex:deniedBy ex:AT&T .\\n\\nex:OAuthToken a ex:Key ;\\n    rdfs:label \"OAuth Token\" .\\n\\n# New Properties\\nex:operatesOn a rdf:Property ;\\n    rdfs:domain ex:CybercriminalGroup ;\\n    rdfs:range ex:HackerForum .\\n\\nex:targets a rdf:Property ;\\n    rdfs:domain ex:CybercriminalGroup ;\\n    rdfs:range ex:Company, ex:Platform .\\n\\nex:exposes a rdf:Property ;\\n    rdfs:domain ex:DataBreach ;\\n    rdfs:range xsd:string .\\n\\nex:sells a rdf:Property ;\\n    rdfs:domain ex:CybercriminalGroup ;\\n    rdfs:range ex:DataBreach .\\n\\nex:denies a rdf:Property ;\\n    rdfs:domain ex:Company ;\\n    rdfs:range ex:DataBreach .\\n\\nex:leverages a rdf:Property ;\\n    rdfs:domain ex:CybercriminalGroup ;\\n    rdfs:range ex:Key, ex:CloudService .\\n\\n# Existing Instances (updated if necessary)\\nex:Microsoft a ex:Company ;\\n    rdfs:label \"Microsoft\" ;\\n    ex:targetedBy ex:ShinyHunters .\\n\\n# Existing Properties (no changes needed)\\n```\\n\\n### Explanation\\n- **New Classes**: Added to represent new concepts like cybercriminal groups, data breaches, and cloud services.\\n- **New Instances**: Added to represent specific entities like ShinyHunters, RaidForums, and AT&T.\\n- **New Properties**: Added to represent relationships like `operatesOn`, `targets`, and `exposes`.\\n- **Integration**: Ensured that new instances and properties are linked to existing ones where applicable, such as `ex:Microsoft` being targeted by `ex:ShinyHunters`.\\n\\nThis expansion maintains consistency with the existing ontology and avoids redundancy by only adding essential new concepts and relationships.'},\n",
       "    'logprobs': None,\n",
       "    'finish_reason': 'stop'}],\n",
       "  'usage': {'prompt_tokens': 1658,\n",
       "   'completion_tokens': 1155,\n",
       "   'total_tokens': 2813,\n",
       "   'prompt_tokens_details': {'cached_tokens': 0},\n",
       "   'prompt_cache_hit_tokens': 0,\n",
       "   'prompt_cache_miss_tokens': 1658},\n",
       "  'system_fingerprint': 'fp_3a5770e1b4_prod0225'},\n",
       " {'id': '4892f6a8-6cc7-46af-ad52-d60d56c103c5',\n",
       "  'object': 'chat.completion',\n",
       "  'created': 1741673018,\n",
       "  'model': 'deepseek-chat',\n",
       "  'choices': [{'index': 0,\n",
       "    'message': {'role': 'assistant',\n",
       "     'content': 'To expand the existing ontology with the new information from the news article, we will extract key concepts, relationships, and categories, and integrate them into the ontology while maintaining consistency and avoiding redundancy. Below is the updated ontology:\\n\\n```ttl\\n@prefix rdf: <http://www.w3.org/1999/02/22-rdf-syntax-ns#> .\\n@prefix rdfs: <http://www.w3.org/2000/01/rdf-schema#> .\\n@prefix owl: <http://www.w3.org/2002/07/owl#> .\\n@prefix xsd: <http://www.w3.org/2001/XMLSchema#> .\\n@prefix ex: <http://example.org/ontology#> .\\n\\n# New Classes\\nex:ThreatActor a rdfs:Class .\\nex:Malware a rdfs:Class .\\nex:Server a rdfs:Class .\\nex:Network a rdfs:Class .\\nex:IncidentResponse a rdfs:Class .\\nex:PassengerServiceSystem a rdfs:Class .\\n\\n# New Instances\\nex:APT41 a ex:ThreatActor ;\\n    rdfs:label \"APT41\" ;\\n    ex:alsoKnownAs \"Winnti Umbrella\", \"Axiom\", \"Barium\" ;\\n    ex:targets ex:Healthcare, ex:HighTech, ex:Telecommunications, ex:VideoGameIndustry, ex:HigherEducation, ex:TravelServices, ex:NewsMedia ;\\n    ex:motivation ex:InformationTheft, ex:Espionage, ex:FinancialGain .\\n\\nex:ColunmTK a ex:CyberAttack ;\\n    rdfs:label \"ColunmTK\" ;\\n    ex:attributedTo ex:APT41 ;\\n    ex:targets ex:AirIndia ;\\n    ex:uses ex:CobaltStrike, ex:BadPotato, ex:Mimikatz ;\\n    ex:duration \"P2M26D\"^^xsd:duration ;\\n    ex:exfiltrates ex:NTLMHash, ex:PlainTextPasswords .\\n\\nex:AirIndia a ex:Company ;\\n    rdfs:label \"Air India\" ;\\n    ex:affectedBy ex:ColunmTK, ex:AirIndiaDataBreach .\\n\\nex:AirIndiaDataBreach a ex:DataBreach ;\\n    rdfs:label \"Air India Data Breach\" ;\\n    ex:exposes \"4.5 million customer records\" ;\\n    ex:duration \"P10Y\"^^xsd:duration ;\\n    ex:affects ex:AirIndia ;\\n    ex:involves ex:PersonalData, ex:PassportInformation, ex:TicketInformation, ex:StarAllianceData, ex:FrequentFlyerData, ex:CreditCardData .\\n\\nex:SITA a ex:Company ;\\n    rdfs:label \"SITA\" ;\\n    ex:provides ex:PassengerServiceSystem ;\\n    ex:affectedBy ex:SITAPSSAttack .\\n\\nex:SITAPSSAttack a ex:CyberAttack ;\\n    rdfs:label \"SITA PSS Attack\" ;\\n    ex:targets ex:SITA ;\\n    ex:affects ex:AirIndia .\\n\\nex:GroupIB a ex:Researcher ;\\n    rdfs:label \"Group-IB\" ;\\n    ex:investigates ex:ColunmTK .\\n\\nex:FireEye a ex:Researcher ;\\n    rdfs:label \"FireEye\" ;\\n    ex:investigates ex:SITAPSSAttack .\\n\\nex:CobaltStrike a ex:Malware ;\\n    rdfs:label \"Cobalt Strike\" .\\n\\nex:BadPotato a ex:Malware ;\\n    rdfs:label \"BadPotato\" .\\n\\nex:Mimikatz a ex:Malware ;\\n    rdfs:label \"Mimikatz\" .\\n\\nex:SITASERVER4 a ex:Server ;\\n    rdfs:label \"SITASERVER4\" ;\\n    ex:partOf ex:AirIndiaNetwork ;\\n    ex:infectedBy ex:ColunmTK .\\n\\nex:AirIndiaNetwork a ex:Network ;\\n    rdfs:label \"Air India Network\" ;\\n    ex:contains ex:SITASERVER4, ex:AILCCUALHSV001, ex:AILDELCCPOSCE01, ex:AILDELCCPDB01, ex:WEBSERVER3 .\\n\\nex:PassengerServiceSystem a ex:System ;\\n    rdfs:label \"Passenger Service System\" ;\\n    ex:providedBy ex:SITA ;\\n    ex:usedBy ex:AirIndia .\\n\\n# New Properties\\nex:attributedTo a rdf:Property ;\\n    rdfs:domain ex:CyberAttack ;\\n    rdfs:range ex:ThreatActor .\\n\\nex:alsoKnownAs a rdf:Property ;\\n    rdfs:domain ex:ThreatActor ;\\n    rdfs:range xsd:string .\\n\\nex:motivation a rdf:Property ;\\n    rdfs:domain ex:ThreatActor ;\\n    rdfs:range xsd:string .\\n\\nex:uses a rdf:Property ;\\n    rdfs:domain ex:CyberAttack ;\\n    rdfs:range ex:Malware .\\n\\nex:duration a rdf:Property ;\\n    rdfs:domain ex:DataBreach, ex:CyberAttack ;\\n    rdfs:range xsd:duration .\\n\\nex:exfiltrates a rdf:Property ;\\n    rdfs:domain ex:CyberAttack ;\\n    rdfs:range ex:Data .\\n\\nex:partOf a rdf:Property ;\\n    rdfs:domain ex:Server ;\\n    rdfs:range ex:Network .\\n\\nex:contains a rdf:Property ;\\n    rdfs:domain ex:Network ;\\n    rdfs:range ex:Server .\\n\\nex:providedBy a rdf:Property ;\\n    rdfs:domain ex:System ;\\n    rdfs:range ex:Company .\\n\\nex:usedBy a rdf:Property ;\\n    rdfs:domain ex:System ;\\n    rdfs:range ex:Company .\\n\\n# Existing Instances (updated if necessary)\\nex:Microsoft a ex:Company ;\\n    rdfs:label \"Microsoft\" ;\\n    ex:targetedBy ex:ShinyHunters .\\n\\n# Existing Properties (no changes needed)\\n```\\n\\n### Explanation of Additions:\\n1. **New Classes**: Added classes such as `ThreatActor`, `Malware`, `Server`, `Network`, `IncidentResponse`, and `PassengerServiceSystem` to represent the new concepts in the article.\\n2. **New Instances**: Added instances like `APT41`, `ColunmTK`, `AirIndia`, `AirIndiaDataBreach`, `SITA`, `GroupIB`, `FireEye`, `CobaltStrike`, `BadPotato`, `Mimikatz`, `SITASERVER4`, `AirIndiaNetwork`, and `PassengerServiceSystem` to represent specific entities and events mentioned in the article.\\n3. **New Properties**: Added properties such as `attributedTo`, `alsoKnownAs`, `motivation`, `uses`, `duration`, `exfiltrates`, `partOf`, `contains`, `providedBy`, and `usedBy` to capture the relationships between the new instances.\\n\\nThis updated ontology now includes the key concepts, relationships, and categories from the news article, ensuring consistency and avoiding redundancy with the existing ontology.'},\n",
       "    'logprobs': None,\n",
       "    'finish_reason': 'stop'}],\n",
       "  'usage': {'prompt_tokens': 1936,\n",
       "   'completion_tokens': 1533,\n",
       "   'total_tokens': 3469,\n",
       "   'prompt_tokens_details': {'cached_tokens': 64},\n",
       "   'prompt_cache_hit_tokens': 64,\n",
       "   'prompt_cache_miss_tokens': 1872},\n",
       "  'system_fingerprint': 'fp_3a5770e1b4_prod0225'}]"
      ]
     },
     "execution_count": 92,
     "metadata": {},
     "output_type": "execute_result"
    }
   ],
   "source": [
    "responseList"
   ]
  },
  {
   "cell_type": "code",
   "execution_count": 93,
   "metadata": {},
   "outputs": [
    {
     "data": {
      "text/plain": [
       "['I will provide you with a news article, and I want to generate an ontology from it. \\nPlease extract key concepts, relationships, and categories from the article and structure them into an ontology. \\nThe ontology should be in a structured format of Turtle (.ttl). \\nHere is the news content: \\nCloud infrastructure security company Wiz on Thursday revealed details of a now-fixed Azure Cosmos database vulnerability that could have been potentially exploited to grant any Azure user full admin access to other customers\\' database instances without any authorization.\\nThe flaw, which grants read, write, and delete privileges, has been dubbed \"ChaosDB,\" with Wiz researchers noting that \"the vulnerability has a trivial exploit that doesn\\'t require any previous access to the target environment, and impacts thousands of organizations, including numerous Fortune 500 companies.\"\\nCosmos DB is Microsoft\\'s proprietary NoSQL database that\\'s advertised as \"a fully managed service\" that \"takes database administration off your hands with automatic management, updates and patching.\"\\nThe Wiz Research Team reported the issue to Microsoft on August 12, after which the Windows maker took steps to mitigate the issue within 48 hours of responsible disclosure, in addition to awarding a $40,000 bounty to the finders on August 17.\\n\"We have no indication that external entities outside the researcher had access to the primary read-write key associated with your Azure Cosmos DB account(s),\" Microsoft said in a statement. \"In addition, we are not aware of any data access because of this vulnerability. Azure Cosmos DB accounts with a vNET or firewall enabled are protected by additional security mechanisms that prevent risk of unauthorized access.\"\\nThe exploit identified by Wiz concerns a chain of vulnerabilities in the Jupyter Notebook feature of Cosmos DB, enabling an adversary to obtain the credentials corresponding to the target Cosmos DB account, including the Primary Key, which provides access to the administrative resources for the database account.\\n\"Using these credentials, it is possible to view, modify, and delete data in the target Cosmos DB account via multiple channels,\" the researchers said. As a consequence, any Cosmos DB asset that has the Jupyter Notebook feature enabled is potentially impacted.\\nAlthough Microsoft notified over 30% of Cosmos DB customers about the potential security breach, Wiz expects the actual number to be much higher, given that the vulnerability has been exploitable for months.\\n\"Every Cosmos DB customer should assume they\\'ve been exposed,\" Wiz researchers noted, adding, \"we also recommend reviewing all past activity in your Cosmos DB account.\" Additionally, Microsoft is also urging its customers to regenerate their Cosmos DB Primary Keys to mitigate any risk arising from the flaw.\\n\\n',\n",
       " '\\nI will provide you with a news article, and I want to expand upon an existing ontology. \\nPlease analyze the new article, extract key concepts, relationships, and categories, and integrate them into the existing ontology while maintaining consistency and avoiding redundancy. \\nEnsure that new concepts complement the previous ontology rather than duplicating existing ones.\\nOnly include the instances and properties essential for this specific news. \\nHere is the news content: \\n\\n\\nShinyHunters, a notorious cybercriminal underground group that\\'s been on a data breach spree since last year, has been observed searching companies\\' GitHub repository source code for vulnerabilities that can be abused to stage larger scale attacks, an analysis of the hackers\\' modus operandi has revealed.\\n\"Primarily operating on Raid Forums, the collective\\'s moniker and motivation can partly be derived from their avatar on social media and other forums: a shiny Umbreon Pokémon,\" Intel 471 researchers said in a report shared with The Hacker News. \"As Pokémon players hunt and collect \"shiny\" characters in the game, ShinyHunters collects and resells user data.\"\\nThe revelation comes as the average cost of a data breach rose from $3.86 million to $4.24 million, making it the highest average cost in 17 years, with compromised credentials responsible for 20% of the breaches reported by over 500 organizations.\\nSince rising to prominence in April 2020, ShinyHunters has claimed responsibility for a string of data breaches, including Tokopedia, Wattpad, Pixlr, Bonobos, BigBasket, Mathway, Unacademy, MeetMindful, and Microsoft\\'s GitHub account, among others.\\nAn assessment by Risk Based Security found that the threat actor has exposed a total of more than 1.12 million unique email addresses belonging to S&P 100 organizations, education, government and military entities as of late 2020.\\nLast week, the group began selling a database purportedly containing the personal information of 70 million AT&T customers for a starting price of $200,000, although the U.S. telecom provider has denied suffering a breach of its systems.\\nShinyHunters has a checkered history of compromising websites and developer repositories to steal credentials or API keys to a company\\'s cloud services, which are subsequently abused to gain access to databases and gather sensitive information to be resold for profit or published for free on hacker forums.\\nThe adversary has also been observed targeting DevOps personnel or GitHub repositories in order to steal valid OAuth tokens, leveraging them to breach cloud infrastructure and bypass any two-factor authentication mechanisms.\\n\"ShinyHunters may not have as much notoriety as the ransomware groups that are currently causing havoc for enterprises all over the world. However, tracking actors like this are crucial to preventing your enterprise from being hit with such an attack,\" the researchers said.\\n\"The information ShinyHunters gathers is often turned around and sold on the same underground marketplaces where ransomware actors use it to launch their own attacks. If enterprises can move to detect activity like ShinyHunters, they in turn can stop ransomware attacks before they are ever launched.\"\\n\\n\\n\\nHere is the ontology:\\n\\n```ttl\\n@prefix rdf: <http://www.w3.org/1999/02/22-rdf-syntax-ns#> .\\n@prefix rdfs: <http://www.w3.org/2000/01/rdf-schema#> .\\n@prefix owl: <http://www.w3.org/2002/07/owl#> .\\n@prefix xsd: <http://www.w3.org/2001/XMLSchema#> .\\n@prefix ex: <http://example.org/ontology#> .\\n\\n# Classes\\nex:Vulnerability a rdfs:Class .\\nex:Company a rdfs:Class .\\nex:Database a rdfs:Class .\\nex:SecurityFlaw a rdfs:Class .\\nex:Feature a rdfs:Class .\\nex:Researcher a rdfs:Class .\\nex:Customer a rdfs:Class .\\nex:Key a rdfs:Class .\\nex:Statement a rdfs:Class .\\nex:Notification a rdfs:Class .\\n\\n# Instances\\nex:Wiz a ex:Company ;\\n    rdfs:label \"Wiz\" .\\n\\nex:Microsoft a ex:Company ;\\n    rdfs:label \"Microsoft\" .\\n\\nex:AzureCosmosDB a ex:Database ;\\n    rdfs:label \"Azure Cosmos DB\" ;\\n    ex:hasFeature ex:JupyterNotebook .\\n\\nex:JupyterNotebook a ex:Feature ;\\n    rdfs:label \"Jupyter Notebook\" .\\n\\nex:ChaosDB a ex:Vulnerability ;\\n    rdfs:label \"ChaosDB\" ;\\n    ex:discoveredBy ex:WizResearchTeam ;\\n    ex:reportedTo ex:Microsoft ;\\n    ex:disclosureDate \"2021-08-12\"^^xsd:date ;\\n    ex:mitigationDate \"2021-08-14\"^^xsd:date ;\\n    ex:bountyAmount 40000 ;\\n    ex:impactedFeature ex:JupyterNotebook ;\\n    ex:affectedPrivileges \"read, write, delete\" ;\\n    ex:potentialImpact ex:Fortune500Companies .\\n\\nex:WizResearchTeam a ex:Researcher ;\\n    rdfs:label \"Wiz Research Team\" .\\n\\nex:Fortune500Companies a ex:Customer ;\\n    rdfs:label \"Fortune 500 Companies\" .\\n\\nex:PrimaryKey a ex:Key ;\\n    rdfs:label \"Primary Key\" ;\\n    ex:associatedWith ex:AzureCosmosDB .\\n\\nex:MicrosoftStatement a ex:Statement ;\\n    rdfs:label \"Microsoft Statement\" ;\\n    ex:content \"We have no indication that external entities outside the researcher had access to the primary read-write key associated with your Azure Cosmos DB account(s). In addition, we are not aware of any data access because of this vulnerability. Azure Cosmos DB accounts with a vNET or firewall enabled are protected by additional security mechanisms that prevent risk of unauthorized access.\" .\\n\\nex:CustomerNotification a ex:Notification ;\\n    rdfs:label \"Customer Notification\" ;\\n    ex:issuedBy ex:Microsoft ;\\n    ex:notificationDate \"2021-08-14\"^^xsd:date ;\\n    ex:notificationPercentage \"30%\" .\\n\\n# Relationships\\nex:discoveredBy a rdf:Property ;\\n    rdfs:domain ex:Vulnerability ;\\n    rdfs:range ex:Researcher .\\n\\nex:reportedTo a rdf:Property ;\\n    rdfs:domain ex:Vulnerability ;\\n    rdfs:range ex:Company .\\n\\nex:mitigationDate a rdf:Property ;\\n    rdfs:domain ex:Vulnerability ;\\n    rdfs:range xsd:date .\\n\\nex:bountyAmount a rdf:Property ;\\n    rdfs:domain ex:Vulnerability ;\\n    rdfs:range xsd:integer .\\n\\nex:impactedFeature a rdf:Property ;\\n    rdfs:domain ex:Vulnerability ;\\n    rdfs:range ex:Feature .\\n\\nex:affectedPrivileges a rdf:Property ;\\n    rdfs:domain ex:Vulnerability ;\\n    rdfs:range xsd:string .\\n\\nex:potentialImpact a rdf:Property ;\\n    rdfs:domain ex:Vulnerability ;\\n    rdfs:range ex:Customer .\\n\\nex:associatedWith a rdf:Property ;\\n    rdfs:domain ex:Key ;\\n    rdfs:range ex:Database .\\n\\nex:issuedBy a rdf:Property ;\\n    rdfs:domain ex:Notification ;\\n    rdfs:range ex:Company .\\n\\nex:notificationDate a rdf:Property ;\\n    rdfs:domain ex:Notification ;\\n    rdfs:range xsd:date .\\n\\nex:notificationPercentage a rdf:Property ;\\n    rdfs:domain ex:Notification ;\\n    rdfs:range xsd:string .\\n```\\n',\n",
       " '\\nI will provide you with a news article, and I want to expand upon an existing ontology. \\nPlease analyze the new article, extract key concepts, relationships, and categories, and integrate them into the existing ontology while maintaining consistency and avoiding redundancy. \\nEnsure that new concepts complement the previous ontology rather than duplicating existing ones.\\nOnly include the instances and properties essential for this specific news. \\nHere is the news content: \\n\\n\\nEven as a massive data breach affecting Air India came to light the previous month, India\\'s flag carrier airline appears to have suffered a separate cyber assault that lasted for a period of at least two months and 26 days, new research has revealed, which attributed the incident with moderate confidence to a Chinese nation-state threat actor called APT41.\\nGroup-IB dubbed the campaign \"ColunmTK\" based on the names of command-and-control (C2) server domains that were used for facilitating communications with the compromised systems.\\n\"The potential ramifications of this incident for the entire airline industry and carriers that might yet discover traces of ColunmTK in their networks are significant,\" the Singapore-headquartered threat hunting company said.\\nWhile Group-IB alluded that this may have been a supply chain attack targeting SITA, the Swiss aviation information technology company told The Hacker News that they are two different security incidents.\\n\"The airline confirmed vis-à-vis SITA on June 11, 2021 that the cyber attack on Air India [...] is not the same or in any way linked to the attack on SITA PSS,\" SITA told our publication over email.\\nAlso known by other monikers such as Winnti Umbrella, Axiom and Barium, APT41 is a prolific Chinese-speaking nation-state advanced persistent threat known for its campaigns centered around information theft and espionage against healthcare, high-tech, and telecommunications sectors to establish and maintain strategic access for stealing intellectual property and committing financially motivated cybercrimes.\\n\"Their cyber crime intrusions are most apparent among video game industry targeting, including the manipulation of virtual currencies, and attempted deployment of ransomware,\" according to FireEye. \"APT41 operations against higher education, travel services, and news/media firms provide some indication that the group also tracks individuals and conducts surveillance.\"\\nOn May 21, Air India disclosed a data breach affecting 4.5 million of its customers over a period stretching nearly 10 years in the wake of a supply chain attack directed at its Passenger Service System (PSS) provider SITA earlier this February.\\nThe breach involved personal data registered between Aug. 26, 2011, and Feb. 3, 2021, including details such as names, dates of birth, contact information, passport information, ticket information, Star Alliance, and Air India frequent flyer data, as well as credit card data.\\nFireEye\\'s Mandiant, which is assisting SITA with the incident response efforts, has since determined that the attack was highly sophisticated and that the tactics, techniques, and procedures (TTPs) and compromise indicators point to a single entity, adding the \"identity and motive of the perpetrator are not entirely conclusive.\"\\nLikely a New Attack Against Air India\\nGroup-IB\\'s analysis has now revealed that at least since Feb. 23, an infected device inside Air India\\'s network (named \"SITASERVER4\") communicated with a server hosting Cobalt Strike payloads dating all the way back to Dec. 11, 2020.\\nFollowing this initial compromise, the attackers are said to have established persistence and obtained passwords in order to pivot laterally to the broader network with the goal of gathering information inside the local network.\\nNo fewer than 20 devices were infected during the course of lateral movement, the company said. \"The attackers exfiltrated NTLM hashes and plain-text passwords from local workstations using hashdump and mimikatz,\" Group-IB Threat Intelligence Analyst, Nikita Rostovcev, said. \"The attackers tried to escalate local privileges with the help of BadPotato malware.\"\\nIn all, the adversary extracted 23.33 MB of data from five devices named SITASERVER4, AILCCUALHSV001, AILDELCCPOSCE01, AILDELCCPDB01, and WEBSERVER3, with the attackers taking 24 hours and 5 minutes to spread Cobalt Strike beacons to other devices in the airline\\'s network. The initial entry point for the attack remains unknown as yet.\\nConnections to Barium are grounded on the basis of overlaps between the C2 servers found in the attack infrastructure with those used in earlier attacks and tactics employed by the threat actor to park their domains once their operations are over. Group-IB also said it discovered a file named \"Install.bat\" that bore similarities to payloads deployed in a 2020 global intrusion campaign.\\nWhen reached for a response, Group-IB CTO Dmitry Volkov told The Hacker News that \"Despite the fact that the initial compromise vector remains unknown, Group-IB treats [the] SITA incident and Air India breach as interrelated.\"\\n\"This assumption is built on the fact that it was a server in Air India\\'s network that, Group-IB assumes, might have established [a] connection with SITA\\'s network that was breached first. According to Group-IB\\'s data, SITASERVER4 was the first host to have been infected within Air India\\'s network. This has also been confirmed by Air India,\" Volkov added.\\nHowever, it\\'s worth noting that SITASERVER4 was neither owned or managed by SITA. Speaking on background, SITA noted that the server in question had been previously used to host software offered by the company to Air India and that the specific software was removed from the server in 2019.\\nThe aviation IT provider also clarified that none of the methods that were used to target Air India since February 23 were put to use in the attacks on SITA PSS, adding the adversary was removed from its network weeks prior to the start of the malicious activity directed against the airline, implying that the two incidents had no bearing on one another.\\n\\n\\n\\nHere is the ontology:\\n\\n```ttl\\n@prefix rdf: <http://www.w3.org/1999/02/22-rdf-syntax-ns#> .\\n@prefix rdfs: <http://www.w3.org/2000/01/rdf-schema#> .\\n@prefix owl: <http://www.w3.org/2002/07/owl#> .\\n@prefix xsd: <http://www.w3.org/2001/XMLSchema#> .\\n@prefix ex: <http://example.org/ontology#> .\\n\\n# New Classes\\nex:CybercriminalGroup a rdfs:Class .\\nex:DataBreach a rdfs:Class .\\nex:CloudService a rdfs:Class .\\nex:OAuthToken a rdfs:Class .\\nex:HackerForum a rdfs:Class .\\nex:RansomwareGroup a rdfs:Class .\\n\\n# New Instances\\nex:ShinyHunters a ex:CybercriminalGroup ;\\n    rdfs:label \"ShinyHunters\" ;\\n    ex:operatesOn ex:RaidForums ;\\n    ex:targets ex:GitHub, ex:AT&T ;\\n    ex:leverages ex:OAuthToken .\\n\\nex:RaidForums a ex:HackerForum ;\\n    rdfs:label \"Raid Forums\" .\\n\\nex:AT&T a ex:Company ;\\n    rdfs:label \"AT&T\" .\\n\\nex:GitHub a ex:Platform ;\\n    rdfs:label \"GitHub\" .\\n\\nex:Intel471 a ex:Researcher ;\\n    rdfs:label \"Intel 471\" .\\n\\nex:RiskBasedSecurity a ex:Researcher ;\\n    rdfs:label \"Risk Based Security\" .\\n\\nex:AT&TDataBreach a ex:DataBreach ;\\n    rdfs:label \"AT&T Data Breach\" ;\\n    ex:exposes \"70 million customer records\" ;\\n    ex:soldBy ex:ShinyHunters ;\\n    ex:deniedBy ex:AT&T .\\n\\nex:OAuthToken a ex:Key ;\\n    rdfs:label \"OAuth Token\" .\\n\\n# New Properties\\nex:operatesOn a rdf:Property ;\\n    rdfs:domain ex:CybercriminalGroup ;\\n    rdfs:range ex:HackerForum .\\n\\nex:targets a rdf:Property ;\\n    rdfs:domain ex:CybercriminalGroup ;\\n    rdfs:range ex:Company, ex:Platform .\\n\\nex:exposes a rdf:Property ;\\n    rdfs:domain ex:DataBreach ;\\n    rdfs:range xsd:string .\\n\\nex:sells a rdf:Property ;\\n    rdfs:domain ex:CybercriminalGroup ;\\n    rdfs:range ex:DataBreach .\\n\\nex:denies a rdf:Property ;\\n    rdfs:domain ex:Company ;\\n    rdfs:range ex:DataBreach .\\n\\nex:leverages a rdf:Property ;\\n    rdfs:domain ex:CybercriminalGroup ;\\n    rdfs:range ex:Key, ex:CloudService .\\n\\n# Existing Instances (updated if necessary)\\nex:Microsoft a ex:Company ;\\n    rdfs:label \"Microsoft\" ;\\n    ex:targetedBy ex:ShinyHunters .\\n\\n# Existing Properties (no changes needed)\\n```\\n']"
      ]
     },
     "execution_count": 93,
     "metadata": {},
     "output_type": "execute_result"
    }
   ],
   "source": [
    "promptList"
   ]
  },
  {
   "cell_type": "code",
   "execution_count": null,
   "metadata": {},
   "outputs": [],
   "source": []
  }
 ],
 "metadata": {
  "kernelspec": {
   "display_name": "deepseek",
   "language": "python",
   "name": "python3"
  },
  "language_info": {
   "codemirror_mode": {
    "name": "ipython",
    "version": 3
   },
   "file_extension": ".py",
   "mimetype": "text/x-python",
   "name": "python",
   "nbconvert_exporter": "python",
   "pygments_lexer": "ipython3",
   "version": "3.12.9"
  }
 },
 "nbformat": 4,
 "nbformat_minor": 2
}
