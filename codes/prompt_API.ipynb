{
 "cells": [
  {
   "cell_type": "code",
   "execution_count": null,
   "metadata": {},
   "outputs": [],
   "source": [
    "import requests\n",
    "import os\n",
    "import json\n",
    "import pandas as pd\n",
    "import re\n",
    "import import_ipynb"
   ]
  },
  {
   "cell_type": "code",
   "execution_count": 4,
   "metadata": {},
   "outputs": [],
   "source": [
    "try:\n",
    "    from dotenv import load_dotenv\n",
    "\n",
    "    load_dotenv(\".env\")\n",
    "except ImportError:\n",
    "    print(\"dotenv not installed, skipping...\")"
   ]
  },
  {
   "cell_type": "code",
   "execution_count": null,
   "metadata": {},
   "outputs": [],
   "source": [
    "def create_news(df, limit=20, output_dir=\"./news/\"):\n",
    "    news_list = []\n",
    "    for idx, news in enumerate(df):\n",
    "        filename = f\"news{str(idx + 1).zfill(3)}.txt\"\n",
    "        file_path = os.path.join(output_dir, filename)\n",
    "        content = news\n",
    "\n",
    "        with open(file_path, 'w+') as file:\n",
    "            file.write(content)\n",
    "\n",
    "        news_list.append(filename)\n",
    "        \n",
    "        if idx == limit - 1:\n",
    "            break\n",
    "    return news_list"
   ]
  },
  {
   "cell_type": "code",
   "execution_count": null,
   "metadata": {},
   "outputs": [],
   "source": [
    "def chat(query, URL, TOKEN, MODEL):\n",
    "    url = f'{URL}/chat/completions'\n",
    "    headers = {\n",
    "        'Authorization': f'Bearer {TOKEN}',\n",
    "        'Content-Type': 'application/json'\n",
    "    }\n",
    "        \n",
    "    payload = {\n",
    "        'model': MODEL,\n",
    "        'messages': [{'role': 'user', 'content': query}],\n",
    "        'stream' : False,\n",
    "    }\n",
    "\n",
    "    try:\n",
    "        response = requests.post(url, headers=headers, json=payload)\n",
    "        response.raise_for_status()\n",
    "        return json.loads(response.text)\n",
    "    except requests.exceptions.RequestException as e:\n",
    "        return {'error': f\"{str(e)} {response}\"}"
   ]
  },
  {
   "cell_type": "code",
   "execution_count": null,
   "metadata": {},
   "outputs": [],
   "source": [
    "def extract_turtle(output):\n",
    "    cleaned_text = re.search(r'```(?:ttl|turtle)(.*?)```', output, flags=re.DOTALL)\n",
    "    if cleaned_text is not None:\n",
    "        return cleaned_text.group(1).strip()\n",
    "    else:\n",
    "        return None "
   ]
  },
  {
   "cell_type": "code",
   "execution_count": null,
   "metadata": {},
   "outputs": [],
   "source": [
    "def create_newsdict(news_list, news_path=\"./news/\"):\n",
    "    news_dict = {} \n",
    "    \n",
    "    for news in news_list:\n",
    "        try:\n",
    "            with open(news_path + news, \"r\") as f:\n",
    "                content = f.read()  \n",
    "            news_dict[news] = content  \n",
    "        except FileNotFoundError:\n",
    "            print(f\"Warning: File {news} not found in path {news_path}. Skipping.\")\n",
    "        except Exception as e:\n",
    "            print(f\"Error reading {news}: {e}\")\n",
    "    \n",
    "    return news_dict"
   ]
  },
  {
   "cell_type": "code",
   "execution_count": null,
   "metadata": {},
   "outputs": [],
   "source": [
    "def save_ontologies(filename, content, output_dir=\"./news_onto\"):\n",
    "    os.makedirs(output_dir, exist_ok=True)\n",
    "\n",
    "    new_filename = filename.replace(\".txt\", \".ttl\")\n",
    "    file_path = os.path.join(output_dir, new_filename)\n",
    "        \n",
    "    with open(file_path, \"w+\", encoding=\"utf-8\") as file:\n",
    "        file.write(content)\n",
    "        \n",
    "    print(f\"Saved: {file_path}\")"
   ]
  },
  {
   "cell_type": "code",
   "execution_count": null,
   "metadata": {},
   "outputs": [],
   "source": [
    "def generate_onto(URL, TOKEN, MODEL, initial_prompt_text, prompt_text, news_dict, initial_ontology=None):\n",
    "    if not (initial_prompt_text and prompt_text and news_dict):\n",
    "         return {}\n",
    "\n",
    "    ontoDict = {}       # {'newsXYZ' : 'RDF_ONTOLOGY'}\n",
    "    responseList = []   # Saving response for Debugging\n",
    "    promptList = []     # Saving prompt for Debugging\n",
    "    first_iteration = True # Flag to trigger initial prompt\n",
    "    prompt = None\n",
    "\n",
    "    for news, news_content in news_dict.items():\n",
    "        if first_iteration:\n",
    "            # First Prompt Construction\n",
    "            if initial_ontology:\n",
    "                # Initial prompt w/ initial ontology\n",
    "                prompt = f\"\"\"\n",
    "{prompt_text}\\n\n",
    "{news_content}\\n\n",
    "Here is the ontology:\\n\n",
    "```ttl\n",
    "{initial_ontology}\n",
    "```\n",
    "\"\"\"\n",
    "            else:\n",
    "                # Initial prompt w/o initial ontology\n",
    "                prompt = initial_prompt_text + news_content\n",
    "            first_iteration = False\n",
    "\n",
    "        else:\n",
    "            prompt = f\"\"\"\n",
    "{prompt_text}\\n\n",
    "{news_content}\\n\n",
    "Here is the ontology:\\n\n",
    "```ttl\n",
    "{previous_ttl_content}\n",
    "```\n",
    "\"\"\"\n",
    "\n",
    "        # Send Prompt to LLM\n",
    "        response = chat(query=prompt, URL, TOKEN, MODEL)\n",
    "        \n",
    "        # Debug variables\n",
    "        promptList.append(prompt)\n",
    "        responseList.append(response)\n",
    "\n",
    "        # Get the generated ontology\n",
    "        ttl_content = extract_turtle(response['choices'][0]['message']['content'])\n",
    "        if ttl_content:  \n",
    "            ontoDict[news] = ttl_content  \n",
    "            save_ontologies(news, ttl_content)\n",
    "            previous_ttl_content = ttl_content\n",
    "\n",
    "        else:\n",
    "            print(f\"Warning: No ontology extracted for {news}\")\n",
    "\n",
    "    return ontoDict, responseList, promptList"
   ]
  }
 ],
 "metadata": {
  "kernelspec": {
   "display_name": "deepseek",
   "language": "python",
   "name": "python3"
  },
  "language_info": {
   "codemirror_mode": {
    "name": "ipython",
    "version": 3
   },
   "file_extension": ".py",
   "mimetype": "text/x-python",
   "name": "python",
   "nbconvert_exporter": "python",
   "pygments_lexer": "ipython3",
   "version": "3.12.9"
  }
 },
 "nbformat": 4,
 "nbformat_minor": 2
}
