{
 "cells": [
  {
   "cell_type": "code",
   "execution_count": 36,
   "metadata": {},
   "outputs": [],
   "source": [
    "from rdflib import Graph, OWL, RDFS\n",
    "from urllib.parse import urlparse"
   ]
  },
  {
   "cell_type": "code",
   "execution_count": 37,
   "metadata": {},
   "outputs": [],
   "source": [
    "def get_local_name(uri):\n",
    "    return uri.split(\"#\")[-1].split(\"/\")[-1]"
   ]
  },
  {
   "cell_type": "code",
   "execution_count": 38,
   "metadata": {},
   "outputs": [],
   "source": [
    "# Get last element which is the base uri\n",
    "def getNamespace(g):\n",
    "    namespaces = g.namespaces()\n",
    "    base_prefix = ''\n",
    "    base_uri = ''\n",
    "\n",
    "    for prefix, uri in namespaces:\n",
    "        base_prefix, base_uri = prefix, uri\n",
    "    return (base_prefix, base_uri)"
   ]
  },
  {
   "cell_type": "code",
   "execution_count": 39,
   "metadata": {},
   "outputs": [],
   "source": [
    "def prep_onto(input_path, output_path):\n",
    "    g = Graph()\n",
    "    g.parse(input_path, format=\"ttl\")\n",
    "    prefix, uri = getNamespace(g)\n",
    "\n",
    "    filtered_g = Graph()\n",
    "    filtered_g.bind(prefix, namespace=uri)\n",
    "\n",
    "    for s, p, o in g:\n",
    "        filtered_g.add\n",
    "        if ((o == OWL.Class or o == RDFS.Class) or (o == OWL.ObjectProperty) or (o == OWL.DatatypeProperty)):\n",
    "            filtered_g.add((s, p, o))\n",
    "        elif p == RDFS.subClassOf:\n",
    "            filtered_g.add((s, p, o))\n",
    "\n",
    "    # Save the filtered TTL file\n",
    "    filtered_g.serialize(output_path, format=\"turtle\")"
   ]
  }
 ],
 "metadata": {
  "kernelspec": {
   "display_name": "deepseek",
   "language": "python",
   "name": "python3"
  },
  "language_info": {
   "codemirror_mode": {
    "name": "ipython",
    "version": 3
   },
   "file_extension": ".py",
   "mimetype": "text/x-python",
   "name": "python",
   "nbconvert_exporter": "python",
   "pygments_lexer": "ipython3",
   "version": "3.12.9"
  }
 },
 "nbformat": 4,
 "nbformat_minor": 2
}
